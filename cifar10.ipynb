{
 "cells": [
  {
   "cell_type": "code",
   "execution_count": 5,
   "metadata": {},
   "outputs": [],
   "source": [
    "import pandas as pd\n",
    "\n",
    "import numpy as np\n",
    "\n",
    "import matplotlib.pyplot as plt\n",
    "\n",
    "%matplotlib inline"
   ]
  },
  {
   "cell_type": "code",
   "execution_count": 6,
   "metadata": {},
   "outputs": [],
   "source": [
    "from keras.datasets import cifar10"
   ]
  },
  {
   "cell_type": "code",
   "execution_count": 7,
   "metadata": {},
   "outputs": [],
   "source": [
    "(xtrain , ytrain) , (xtest , ytest) = cifar10.load_data()"
   ]
  },
  {
   "cell_type": "code",
   "execution_count": 8,
   "metadata": {},
   "outputs": [
    {
     "data": {
      "text/plain": [
       "(50000, 32, 32, 3)"
      ]
     },
     "execution_count": 8,
     "metadata": {},
     "output_type": "execute_result"
    }
   ],
   "source": [
    "xtrain.shape"
   ]
  },
  {
   "cell_type": "code",
   "execution_count": 9,
   "metadata": {},
   "outputs": [
    {
     "data": {
      "text/plain": [
       "(10000, 32, 32, 3)"
      ]
     },
     "execution_count": 9,
     "metadata": {},
     "output_type": "execute_result"
    }
   ],
   "source": [
    "xtest.shape"
   ]
  },
  {
   "cell_type": "code",
   "execution_count": 10,
   "metadata": {},
   "outputs": [
    {
     "data": {
      "text/plain": [
       "<matplotlib.image.AxesImage at 0x7fec46307fd0>"
      ]
     },
     "execution_count": 10,
     "metadata": {},
     "output_type": "execute_result"
    },
    {
     "data": {
      "image/png": "[encoded data removed]",
      "text/plain": [
       "<Figure size 432x288 with 1 Axes>"
      ]
     },
     "metadata": {},
     "output_type": "display_data"
    }
   ],
   "source": [
    "plt.imshow(xtrain[1])"
   ]
  },
  {
   "cell_type": "code",
   "execution_count": 11,
   "metadata": {},
   "outputs": [],
   "source": [
    "xtrain = (xtrain.astype('float32'))/255.0\n",
    "\n",
    "xtest = (xtest.astype('float32'))/255.0"
   ]
  },
  {
   "cell_type": "code",
   "execution_count": 12,
   "metadata": {},
   "outputs": [
    {
     "data": {
      "text/plain": [
       "(50000, 32, 32, 3)"
      ]
     },
     "execution_count": 12,
     "metadata": {},
     "output_type": "execute_result"
    }
   ],
   "source": [
    "xtrain.shape"
   ]
  },
  {
   "cell_type": "code",
   "execution_count": 10,
   "metadata": {},
   "outputs": [
    {
     "data": {
      "text/plain": [
       "array([[[0.6039216 , 0.69411767, 0.73333335],\n",
       "        [0.49411765, 0.5372549 , 0.53333336],\n",
       "        [0.4117647 , 0.40784314, 0.37254903],\n",
       "        ...,\n",
       "        [0.35686275, 0.37254903, 0.2784314 ],\n",
       "        [0.34117648, 0.3529412 , 0.2784314 ],\n",
       "        [0.30980393, 0.31764707, 0.27450982]],\n",
       "\n",
       "       [[0.54901963, 0.627451  , 0.6627451 ],\n",
       "        [0.5686275 , 0.6       , 0.6039216 ],\n",
       "        [0.49019608, 0.49019608, 0.4627451 ],\n",
       "        ...,\n",
       "        [0.3764706 , 0.3882353 , 0.30588236],\n",
       "        [0.3019608 , 0.3137255 , 0.24313726],\n",
       "        [0.2784314 , 0.28627452, 0.23921569]],\n",
       "\n",
       "       [[0.54901963, 0.60784316, 0.6431373 ],\n",
       "        [0.54509807, 0.57254905, 0.58431375],\n",
       "        [0.4509804 , 0.4509804 , 0.4392157 ],\n",
       "        ...,\n",
       "        [0.30980393, 0.32156864, 0.2509804 ],\n",
       "        [0.26666668, 0.27450982, 0.21568628],\n",
       "        [0.2627451 , 0.27058825, 0.21568628]],\n",
       "\n",
       "       ...,\n",
       "\n",
       "       [[0.6862745 , 0.654902  , 0.6509804 ],\n",
       "        [0.6117647 , 0.6039216 , 0.627451  ],\n",
       "        [0.6039216 , 0.627451  , 0.6666667 ],\n",
       "        ...,\n",
       "        [0.16470589, 0.13333334, 0.14117648],\n",
       "        [0.23921569, 0.20784314, 0.22352941],\n",
       "        [0.3647059 , 0.3254902 , 0.35686275]],\n",
       "\n",
       "       [[0.64705884, 0.6039216 , 0.5019608 ],\n",
       "        [0.6117647 , 0.59607846, 0.50980395],\n",
       "        [0.62352943, 0.6313726 , 0.5568628 ],\n",
       "        ...,\n",
       "        [0.40392157, 0.3647059 , 0.3764706 ],\n",
       "        [0.48235294, 0.44705883, 0.47058824],\n",
       "        [0.5137255 , 0.4745098 , 0.5137255 ]],\n",
       "\n",
       "       [[0.6392157 , 0.5803922 , 0.47058824],\n",
       "        [0.61960787, 0.5803922 , 0.47843137],\n",
       "        [0.6392157 , 0.6117647 , 0.52156866],\n",
       "        ...,\n",
       "        [0.56078434, 0.52156866, 0.54509807],\n",
       "        [0.56078434, 0.5254902 , 0.5568628 ],\n",
       "        [0.56078434, 0.52156866, 0.5647059 ]]], dtype=float32)"
      ]
     },
     "execution_count": 10,
     "metadata": {},
     "output_type": "execute_result"
    }
   ],
   "source": [
    "xtrain[1]"
   ]
  },
  {
   "cell_type": "code",
   "execution_count": 11,
   "metadata": {},
   "outputs": [],
   "source": [
    "from keras.utils.np_utils import to_categorical"
   ]
  },
  {
   "cell_type": "code",
   "execution_count": 12,
   "metadata": {},
   "outputs": [],
   "source": [
    "ytest_cat = to_categorical(ytest)"
   ]
  },
  {
   "cell_type": "code",
   "execution_count": 13,
   "metadata": {},
   "outputs": [],
   "source": [
    "ytrain_cat = to_categorical(ytrain)"
   ]
  },
  {
   "cell_type": "code",
   "execution_count": 14,
   "metadata": {},
   "outputs": [
    {
     "data": {
      "text/plain": [
       "(10000, 1)"
      ]
     },
     "execution_count": 14,
     "metadata": {},
     "output_type": "execute_result"
    }
   ],
   "source": [
    "ytest.shape\n"
   ]
  },
  {
   "cell_type": "code",
   "execution_count": 15,
   "metadata": {},
   "outputs": [
    {
     "data": {
      "text/plain": [
       "(10000, 10)"
      ]
     },
     "execution_count": 15,
     "metadata": {},
     "output_type": "execute_result"
    }
   ],
   "source": [
    "ytest_cat.shape"
   ]
  },
  {
   "cell_type": "code",
   "execution_count": 16,
   "metadata": {},
   "outputs": [
    {
     "data": {
      "text/plain": [
       "array([9], dtype=uint8)"
      ]
     },
     "execution_count": 16,
     "metadata": {},
     "output_type": "execute_result"
    }
   ],
   "source": [
    "ytrain[1]"
   ]
  },
  {
   "cell_type": "code",
   "execution_count": 17,
   "metadata": {},
   "outputs": [
    {
     "data": {
      "text/plain": [
       "array([0., 0., 0., 0., 0., 0., 0., 0., 0., 1.], dtype=float32)"
      ]
     },
     "execution_count": 17,
     "metadata": {},
     "output_type": "execute_result"
    }
   ],
   "source": [
    "ytrain_cat[1]"
   ]
  },
  {
   "cell_type": "code",
   "execution_count": 3,
   "metadata": {},
   "outputs": [
    {
     "name": "stderr",
     "output_type": "stream",
     "text": [
      "Using TensorFlow backend.\n"
     ]
    }
   ],
   "source": [
    "from keras.models import Sequential\n",
    "\n",
    "from keras.layers import Conv2D , Dense , Flatten ,MaxPool2D , Activation ,\n",
    "\n",
    "import keras.backend as K"
   ]
  },
  {
   "cell_type": "code",
   "execution_count": 4,
   "metadata": {},
   "outputs": [
    {
     "ename": "NameError",
     "evalue": "name 'Dropout' is not defined",
     "output_type": "error",
     "traceback": [
      "\u001b[0;31m---------------------------------------------------------------------------\u001b[0m",
      "\u001b[0;31mNameError\u001b[0m                                 Traceback (most recent call last)",
      "\u001b[0;32m<ipython-input-4-6cbd6b9dfb0a>\u001b[0m in \u001b[0;36m<module>\u001b[0;34m()\u001b[0m\n\u001b[1;32m     11\u001b[0m \u001b[0mmodel\u001b[0m\u001b[0;34m.\u001b[0m\u001b[0madd\u001b[0m\u001b[0;34m(\u001b[0m\u001b[0mMaxPool2D\u001b[0m\u001b[0;34m(\u001b[0m\u001b[0mpool_size\u001b[0m \u001b[0;34m=\u001b[0m \u001b[0;34m(\u001b[0m\u001b[0;36m2\u001b[0m\u001b[0;34m,\u001b[0m\u001b[0;36m2\u001b[0m\u001b[0;34m)\u001b[0m\u001b[0;34m)\u001b[0m\u001b[0;34m)\u001b[0m\u001b[0;34m\u001b[0m\u001b[0m\n\u001b[1;32m     12\u001b[0m \u001b[0;34m\u001b[0m\u001b[0m\n\u001b[0;32m---> 13\u001b[0;31m \u001b[0mmodel\u001b[0m\u001b[0;34m.\u001b[0m\u001b[0madd\u001b[0m\u001b[0;34m(\u001b[0m\u001b[0mDropout\u001b[0m\u001b[0;34m(\u001b[0m\u001b[0;36m0.2\u001b[0m\u001b[0;34m)\u001b[0m\u001b[0;34m)\u001b[0m\u001b[0;34m\u001b[0m\u001b[0m\n\u001b[0m\u001b[1;32m     14\u001b[0m \u001b[0;34m\u001b[0m\u001b[0m\n\u001b[1;32m     15\u001b[0m \u001b[0;31m#layer2\u001b[0m\u001b[0;34m\u001b[0m\u001b[0;34m\u001b[0m\u001b[0m\n",
      "\u001b[0;31mNameError\u001b[0m: name 'Dropout' is not defined"
     ]
    }
   ],
   "source": [
    "K.clear_session()\n",
    "\n",
    "model = Sequential()\n",
    "\n",
    "#layer1\n",
    "\n",
    "model.add(Conv2D(32 ,(3,3) , padding = 'same' , input_shape = (32,32,3) ,activation ='relu'))\n",
    "\n",
    "model.add(Conv2D(32,(3,3),activation = 'relu'))\n",
    "\n",
    "model.add(MaxPool2D(pool_size = (2,2)))\n",
    "\n",
    "model.add(Dropout(0.2))\n",
    "\n",
    "#layer2 \n",
    "\n",
    "model.add(Conv2D(64 , (3,3),padding = 'same', activation = 'relu'))\n",
    "\n",
    "model.add(Conv2D(64 , (3,3) ,activation = 'relu'))\n",
    "\n",
    "model.add(MaxPool2D(pool_size = (2,2)))\n",
    "\n",
    "model.add(Dropout(0.2))\n",
    "\n",
    "#layer3\n",
    "\n",
    "model.add(Conv2D(128 , (3,3),padding = 'same', activation = 'relu'))\n",
    "\n",
    "model.add(Conv2D(128, (3,3) ,activation = 'relu'))\n",
    "\n",
    "model.add(MaxPool2D(pool_size = (2,2)))\n",
    "\n",
    "model.add(Dropout(0.2))\n",
    "\n",
    "#layer3 flatten\n",
    "\n",
    "model.add(Flatten())\n",
    "\n",
    "#layer4 Dense\n",
    "\n",
    "model.add(Dense(512 ,activation = 'relu'))\n",
    "\n",
    "model.add(Dense(10, activation = 'softmax'))\n"
   ]
  },
  {
   "cell_type": "code",
   "execution_count": 18,
   "metadata": {},
   "outputs": [],
   "source": [
    "model.compile(loss = 'categorical_crossentropy',optimizer ='rmsprop' , metrics = ['accuracy'])"
   ]
  },
  {
   "cell_type": "code",
   "execution_count": 19,
   "metadata": {
    "scrolled": false
   },
   "outputs": [
    {
     "name": "stdout",
     "output_type": "stream",
     "text": [
      "_________________________________________________________________\n",
      "Layer (type)                 Output Shape              Param #   \n",
      "=================================================================\n",
      "conv2d_1 (Conv2D)            (None, 32, 32, 32)        896       \n",
      "_________________________________________________________________\n",
      "conv2d_2 (Conv2D)            (None, 30, 30, 32)        9248      \n",
      "_________________________________________________________________\n",
      "max_pooling2d_1 (MaxPooling2 (None, 15, 15, 32)        0         \n",
      "_________________________________________________________________\n",
      "conv2d_3 (Conv2D)            (None, 15, 15, 64)        18496     \n",
      "_________________________________________________________________\n",
      "conv2d_4 (Conv2D)            (None, 13, 13, 64)        36928     \n",
      "_________________________________________________________________\n",
      "max_pooling2d_2 (MaxPooling2 (None, 6, 6, 64)          0         \n",
      "_________________________________________________________________\n",
      "conv2d_5 (Conv2D)            (None, 6, 6, 128)         73856     \n",
      "_________________________________________________________________\n",
      "conv2d_6 (Conv2D)            (None, 4, 4, 128)         147584    \n",
      "_________________________________________________________________\n",
      "max_pooling2d_3 (MaxPooling2 (None, 2, 2, 128)         0         \n",
      "_________________________________________________________________\n",
      "flatten_1 (Flatten)          (None, 512)               0         \n",
      "_________________________________________________________________\n",
      "dense_1 (Dense)              (None, 512)               262656    \n",
      "_________________________________________________________________\n",
      "dense_2 (Dense)              (None, 10)                5130      \n",
      "=================================================================\n",
      "Total params: 554,794\n",
      "Trainable params: 554,794\n",
      "Non-trainable params: 0\n",
      "_________________________________________________________________\n"
     ]
    }
   ],
   "source": [
    "model.summary()"
   ]
  },
  {
   "cell_type": "code",
   "execution_count": 21,
   "metadata": {},
   "outputs": [
    {
     "name": "stdout",
     "output_type": "stream",
     "text": [
      "Train on 35000 samples, validate on 15000 samples\n",
      "Epoch 1/15\n",
      "35000/35000 [==============================] - 277s 8ms/step - loss: 0.6781 - acc: 0.7691 - val_loss: 0.7834 - val_acc: 0.7415\n",
      "Epoch 2/15\n",
      "35000/35000 [==============================] - 276s 8ms/step - loss: 0.6017 - acc: 0.7916 - val_loss: 0.9539 - val_acc: 0.6967\n",
      "Epoch 3/15\n",
      "35000/35000 [==============================] - 275s 8ms/step - loss: 0.5435 - acc: 0.8117 - val_loss: 0.8247 - val_acc: 0.7411\n",
      "Epoch 4/15\n",
      "35000/35000 [==============================] - 278s 8ms/step - loss: 0.4933 - acc: 0.8313 - val_loss: 0.8236 - val_acc: 0.7615\n",
      "Epoch 5/15\n",
      "35000/35000 [==============================] - 276s 8ms/step - loss: 0.4521 - acc: 0.8441 - val_loss: 0.8607 - val_acc: 0.7482\n",
      "Epoch 6/15\n",
      "35000/35000 [==============================] - 277s 8ms/step - loss: 0.4141 - acc: 0.8563 - val_loss: 0.9288 - val_acc: 0.7449\n",
      "Epoch 7/15\n",
      "35000/35000 [==============================] - 257s 7ms/step - loss: 0.3807 - acc: 0.8670 - val_loss: 0.8885 - val_acc: 0.7612\n",
      "Epoch 8/15\n",
      "35000/35000 [==============================] - 26008s 743ms/step - loss: 0.3436 - acc: 0.8811 - val_loss: 0.9994 - val_acc: 0.7214\n",
      "Epoch 9/15\n",
      "35000/35000 [==============================] - 263s 8ms/step - loss: 0.3132 - acc: 0.8916 - val_loss: 1.1860 - val_acc: 0.7501\n",
      "Epoch 10/15\n",
      "35000/35000 [==============================] - 268s 8ms/step - loss: 0.2895 - acc: 0.9014 - val_loss: 1.2004 - val_acc: 0.7089\n",
      "Epoch 11/15\n",
      "35000/35000 [==============================] - 271s 8ms/step - loss: 0.2692 - acc: 0.9083 - val_loss: 1.0370 - val_acc: 0.7306\n",
      "Epoch 12/15\n",
      "35000/35000 [==============================] - 263s 8ms/step - loss: 0.2519 - acc: 0.9138 - val_loss: 1.5895 - val_acc: 0.7374\n",
      "Epoch 13/15\n",
      "35000/35000 [==============================] - 267s 8ms/step - loss: 0.2325 - acc: 0.9221 - val_loss: 1.0164 - val_acc: 0.7623\n",
      "Epoch 14/15\n",
      "35000/35000 [==============================] - 260s 7ms/step - loss: 0.2128 - acc: 0.9299 - val_loss: 1.2655 - val_acc: 0.7531\n",
      "Epoch 15/15\n",
      "35000/35000 [==============================] - 287s 8ms/step - loss: 0.2081 - acc: 0.9314 - val_loss: 1.2646 - val_acc: 0.7233\n"
     ]
    }
   ],
   "source": [
    "sa = model.fit(xtrain , ytrain_cat , batch_size = 128 , epochs = 15 , verbose = 1 ,validation_split = 0.3)"
   ]
  },
  {
   "cell_type": "code",
   "execution_count": 1,
   "metadata": {},
   "outputs": [
    {
     "ename": "NameError",
     "evalue": "name 'model' is not defined",
     "output_type": "error",
     "traceback": [
      "\u001b[0;31m---------------------------------------------------------------------------\u001b[0m",
      "\u001b[0;31mNameError\u001b[0m                                 Traceback (most recent call last)",
      "\u001b[0;32m<ipython-input-1-3313ab61d9dc>\u001b[0m in \u001b[0;36m<module>\u001b[0;34m()\u001b[0m\n\u001b[0;32m----> 1\u001b[0;31m \u001b[0mtest_accuracy\u001b[0m \u001b[0;34m=\u001b[0m \u001b[0mmodel\u001b[0m\u001b[0;34m.\u001b[0m\u001b[0mevaluate\u001b[0m\u001b[0;34m(\u001b[0m\u001b[0mx_test\u001b[0m\u001b[0;34m,\u001b[0m \u001b[0my_test_cat\u001b[0m\u001b[0;34m)\u001b[0m\u001b[0;34m[\u001b[0m\u001b[0;36m1\u001b[0m\u001b[0;34m]\u001b[0m\u001b[0;34m\u001b[0m\u001b[0m\n\u001b[0m\u001b[1;32m      2\u001b[0m \u001b[0mtest_accuracy\u001b[0m\u001b[0;34m\u001b[0m\u001b[0m\n",
      "\u001b[0;31mNameError\u001b[0m: name 'model' is not defined"
     ]
    }
   ],
   "source": [
    "test_accuracy = model.evaluate(x_test, y_test_cat)[1]\n",
    "test_accuracy"
   ]
  },
  {
   "cell_type": "code",
   "execution_count": null,
   "metadata": {},
   "outputs": [],
   "source": []
  }
 ],
 "metadata": {
  "kernelspec": {
   "display_name": "Python 3",
   "language": "python",
   "name": "python3"
  },
  "language_info": {
   "codemirror_mode": {
    "name": "ipython",
    "version": 3
   },
   "file_extension": ".py",
   "mimetype": "text/x-python",
   "name": "python",
   "nbconvert_exporter": "python",
   "pygments_lexer": "ipython3",
   "version": "3.6.5"
  }
 },
 "nbformat": 4,
 "nbformat_minor": 2
}
